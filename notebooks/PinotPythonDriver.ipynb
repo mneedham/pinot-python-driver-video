{
 "cells": [
  {
   "cell_type": "code",
   "execution_count": 6,
   "metadata": {
    "collapsed": true
   },
   "outputs": [
    {
     "name": "stdout",
     "output_type": "stream",
     "text": [
      "Collecting pinotdb\n",
      "  Using cached pinotdb-0.4.8-py2.py3-none-any.whl (24 kB)\n",
      "Processing ./.cache/pip/wheels/43/60/a0/19cfc2653f825144b434d455710d205ce1f80cdb498e202391/ciso8601-2.2.0-cp38-cp38-linux_x86_64.whl\n",
      "Requirement already satisfied: requests in /opt/conda/lib/python3.8/site-packages (from pinotdb) (2.24.0)\n",
      "Requirement already satisfied: six in /opt/conda/lib/python3.8/site-packages (from pinotdb) (1.15.0)\n",
      "Collecting httpx\n",
      "  Using cached httpx-0.23.0-py3-none-any.whl (84 kB)\n",
      "Requirement already satisfied: chardet<4,>=3.0.2 in /opt/conda/lib/python3.8/site-packages (from requests->pinotdb) (3.0.4)\n",
      "Requirement already satisfied: certifi>=2017.4.17 in /opt/conda/lib/python3.8/site-packages (from requests->pinotdb) (2020.6.20)\n",
      "Requirement already satisfied: urllib3!=1.25.0,!=1.25.1,<1.26,>=1.21.1 in /opt/conda/lib/python3.8/site-packages (from requests->pinotdb) (1.25.9)\n",
      "Requirement already satisfied: idna<3,>=2.5 in /opt/conda/lib/python3.8/site-packages (from requests->pinotdb) (2.10)\n",
      "Collecting rfc3986[idna2008]<2,>=1.3\n",
      "  Using cached rfc3986-1.5.0-py2.py3-none-any.whl (31 kB)\n",
      "Collecting sniffio\n",
      "  Using cached sniffio-1.3.0-py3-none-any.whl (10 kB)\n",
      "Collecting httpcore<0.16.0,>=0.15.0\n",
      "  Using cached httpcore-0.15.0-py3-none-any.whl (68 kB)\n",
      "Collecting anyio==3.*\n",
      "  Using cached anyio-3.6.1-py3-none-any.whl (80 kB)\n",
      "Collecting h11<0.13,>=0.11\n",
      "  Using cached h11-0.12.0-py3-none-any.whl (54 kB)\n",
      "Installing collected packages: ciso8601, rfc3986, sniffio, anyio, h11, httpcore, httpx, pinotdb\n",
      "Successfully installed anyio-3.6.1 ciso8601-2.2.0 h11-0.12.0 httpcore-0.15.0 httpx-0.23.0 pinotdb-0.4.8 rfc3986-1.5.0 sniffio-1.3.0\n"
     ]
    }
   ],
   "source": [
    "!pip install pinotdb"
   ]
  },
  {
   "cell_type": "code",
   "execution_count": 7,
   "metadata": {},
   "outputs": [],
   "source": [
    "import pinotdb"
   ]
  },
  {
   "cell_type": "code",
   "execution_count": 8,
   "metadata": {},
   "outputs": [],
   "source": [
    "connection = pinotdb.connect(\n",
    "  \"pinot\",\n",
    "  8000\n",
    ")"
   ]
  },
  {
   "cell_type": "code",
   "execution_count": 18,
   "metadata": {},
   "outputs": [],
   "source": [
    "cursor = connection.cursor()"
   ]
  },
  {
   "cell_type": "code",
   "execution_count": null,
   "metadata": {},
   "outputs": [],
   "source": [
    "cursor.execute(\"\"\"\n",
    "SELECT * \n",
    "FROM baseballStats\n",
    "\"\"\")\n",
    "\n",
    "for row in cursor:\n",
    "    print(row)\n",
    "\n",
    "[item[0] for item in cursor.description]\n",
    "\n",
    "import pandas as pd"
   ]
  },
  {
   "cell_type": "markdown",
   "metadata": {},
   "source": [
    "for row in cursor:\n",
    "    print(row)\n",
    "\n",
    "[item[0] for item in cursor.description]\n",
    "\n",
    "import pandas as pd\n",
    "\n",
    "pd.DataFrame(\n",
    "  cursor,\n",
    "  columns=[item[0] for item in cursor.description])\n",
    "\n"
   ]
  },
  {
   "cell_type": "code",
   "execution_count": 23,
   "metadata": {
    "scrolled": true
   },
   "outputs": [
    {
     "name": "stdout",
     "output_type": "stream",
     "text": [
      "Mark\n",
      "Michael\n"
     ]
    }
   ],
   "source": [
    "print(\"Mark\")\n",
    "print(\"Michael\")"
   ]
  },
  {
   "cell_type": "code",
   "execution_count": 24,
   "metadata": {},
   "outputs": [
    {
     "name": "stdout",
     "output_type": "stream",
     "text": [
      "Arya\n"
     ]
    }
   ],
   "source": [
    "print(\"Arya\")"
   ]
  },
  {
   "cell_type": "code",
   "execution_count": 25,
   "metadata": {
    "scrolled": true
   },
   "outputs": [
    {
     "name": "stdout",
     "output_type": "stream",
     "text": [
      "Freya\n"
     ]
    }
   ],
   "source": [
    "print(\"Freya\")"
   ]
  }
 ],
 "metadata": {
  "kernelspec": {
   "display_name": "Python 3",
   "language": "python",
   "name": "python3"
  },
  "language_info": {
   "codemirror_mode": {
    "name": "ipython",
    "version": 3
   },
   "file_extension": ".py",
   "mimetype": "text/x-python",
   "name": "python",
   "nbconvert_exporter": "python",
   "pygments_lexer": "ipython3",
   "version": "3.8.4"
  }
 },
 "nbformat": 4,
 "nbformat_minor": 4
}
